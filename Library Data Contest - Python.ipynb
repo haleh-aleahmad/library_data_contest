{
 "cells": [
  {
   "cell_type": "markdown",
   "metadata": {},
   "source": [
    "# Library Data Contest 2019\n",
    "**Authors:** Haleh Ale-Ahmand, Moein Hosseini<br/>\n",
    "March 2019\n",
    "\n",
    "**QUESTIONS:**<br/>\n",
    "1. Are citations subset of traffic stops? <br/>\n",
    "'When a traffic stop is made, a warning issued by the officer is a statement that the motorist has committed some offense, but is being spared the actual citation.'"
   ]
  },
  {
   "cell_type": "markdown",
   "metadata": {},
   "source": [
    "## 0. PACKAGES AND FUNCTIONS"
   ]
  },
  {
   "cell_type": "code",
   "execution_count": 13,
   "metadata": {},
   "outputs": [],
   "source": [
    "%matplotlib inline\n",
    "import pandas as pd\n",
    "import numpy as np\n",
    "import matplotlib.pyplot as plt\n",
    "import os\n",
    "import pytz\n",
    "from datetime import datetime"
   ]
  },
  {
   "cell_type": "code",
   "execution_count": 109,
   "metadata": {},
   "outputs": [],
   "source": [
    "def replace_time(row):\n",
    "    return row['DateTime_Object'].replace( minute = row['Minute'])"
   ]
  },
  {
   "cell_type": "markdown",
   "metadata": {},
   "source": [
    "# 1. READ DATA"
   ]
  },
  {
   "cell_type": "markdown",
   "metadata": {},
   "source": [
    "## 1.1 Evanston Citations"
   ]
  },
  {
   "cell_type": "code",
   "execution_count": 125,
   "metadata": {},
   "outputs": [
    {
     "data": {
      "text/html": [
       "<div>\n",
       "<style scoped>\n",
       "    .dataframe tbody tr th:only-of-type {\n",
       "        vertical-align: middle;\n",
       "    }\n",
       "\n",
       "    .dataframe tbody tr th {\n",
       "        vertical-align: top;\n",
       "    }\n",
       "\n",
       "    .dataframe thead th {\n",
       "        text-align: right;\n",
       "    }\n",
       "</style>\n",
       "<table border=\"1\" class=\"dataframe\">\n",
       "  <thead>\n",
       "    <tr style=\"text-align: right;\">\n",
       "      <th></th>\n",
       "      <th>Citation Number</th>\n",
       "      <th>Citation Date</th>\n",
       "      <th>Citation Time</th>\n",
       "      <th>Day of the Week</th>\n",
       "      <th>Age</th>\n",
       "      <th>Race</th>\n",
       "      <th>Sex</th>\n",
       "      <th>Police Beat</th>\n",
       "    </tr>\n",
       "  </thead>\n",
       "  <tbody>\n",
       "    <tr>\n",
       "      <th>0</th>\n",
       "      <td>YW341477</td>\n",
       "      <td>04/04/2031 12:00:00 AM</td>\n",
       "      <td>803.0</td>\n",
       "      <td>Fri</td>\n",
       "      <td>42.0</td>\n",
       "      <td>White</td>\n",
       "      <td>Female</td>\n",
       "      <td>NaN</td>\n",
       "    </tr>\n",
       "    <tr>\n",
       "      <th>1</th>\n",
       "      <td>YW436498</td>\n",
       "      <td>08/08/2020 12:00:00 AM</td>\n",
       "      <td>1839.0</td>\n",
       "      <td>Sat</td>\n",
       "      <td>38.0</td>\n",
       "      <td>Asian</td>\n",
       "      <td>Female</td>\n",
       "      <td>NaN</td>\n",
       "    </tr>\n",
       "    <tr>\n",
       "      <th>2</th>\n",
       "      <td>SE588873</td>\n",
       "      <td>03/22/2019 12:00:00 AM</td>\n",
       "      <td>908.0</td>\n",
       "      <td>Fri</td>\n",
       "      <td>55.0</td>\n",
       "      <td>White</td>\n",
       "      <td>Female</td>\n",
       "      <td>NaN</td>\n",
       "    </tr>\n",
       "    <tr>\n",
       "      <th>3</th>\n",
       "      <td>SE588869</td>\n",
       "      <td>03/22/2019 12:00:00 AM</td>\n",
       "      <td>831.0</td>\n",
       "      <td>Fri</td>\n",
       "      <td>67.0</td>\n",
       "      <td>White</td>\n",
       "      <td>Female</td>\n",
       "      <td>NaN</td>\n",
       "    </tr>\n",
       "    <tr>\n",
       "      <th>4</th>\n",
       "      <td>SE588925</td>\n",
       "      <td>03/22/2019 12:00:00 AM</td>\n",
       "      <td>1804.0</td>\n",
       "      <td>Fri</td>\n",
       "      <td>38.0</td>\n",
       "      <td>Black</td>\n",
       "      <td>Male</td>\n",
       "      <td>NaN</td>\n",
       "    </tr>\n",
       "  </tbody>\n",
       "</table>\n",
       "</div>"
      ],
      "text/plain": [
       "  Citation Number           Citation Date  Citation Time Day of the Week  \\\n",
       "0        YW341477  04/04/2031 12:00:00 AM          803.0             Fri   \n",
       "1        YW436498  08/08/2020 12:00:00 AM         1839.0             Sat   \n",
       "2        SE588873  03/22/2019 12:00:00 AM          908.0             Fri   \n",
       "3        SE588869  03/22/2019 12:00:00 AM          831.0             Fri   \n",
       "4        SE588925  03/22/2019 12:00:00 AM         1804.0             Fri   \n",
       "\n",
       "    Age   Race     Sex  Police Beat  \n",
       "0  42.0  White  Female          NaN  \n",
       "1  38.0  Asian  Female          NaN  \n",
       "2  55.0  White  Female          NaN  \n",
       "3  67.0  White  Female          NaN  \n",
       "4  38.0  Black    Male          NaN  "
      ]
     },
     "execution_count": 125,
     "metadata": {},
     "output_type": "execute_result"
    }
   ],
   "source": [
    "citations_df = pd.read_csv('./Data/Evanston_Citations.csv')\n",
    "citations_df.head(5)"
   ]
  },
  {
   "cell_type": "markdown",
   "metadata": {},
   "source": [
    "## 1.2 Evanston Crashes"
   ]
  },
  {
   "cell_type": "code",
   "execution_count": 7,
   "metadata": {},
   "outputs": [
    {
     "data": {
      "text/html": [
       "<div>\n",
       "<style scoped>\n",
       "    .dataframe tbody tr th:only-of-type {\n",
       "        vertical-align: middle;\n",
       "    }\n",
       "\n",
       "    .dataframe tbody tr th {\n",
       "        vertical-align: top;\n",
       "    }\n",
       "\n",
       "    .dataframe thead th {\n",
       "        text-align: right;\n",
       "    }\n",
       "</style>\n",
       "<table border=\"1\" class=\"dataframe\">\n",
       "  <thead>\n",
       "    <tr style=\"text-align: right;\">\n",
       "      <th></th>\n",
       "      <th>Accident ID (FK)</th>\n",
       "      <th>Day of the Week</th>\n",
       "      <th>Accident Date</th>\n",
       "      <th>Accident Time</th>\n",
       "      <th>Accident Street Name</th>\n",
       "      <th>Direction from Intersecting Road</th>\n",
       "      <th>GEO-X</th>\n",
       "      <th>GEO-Y</th>\n",
       "      <th>Police Beat</th>\n",
       "    </tr>\n",
       "  </thead>\n",
       "  <tbody>\n",
       "    <tr>\n",
       "      <th>0</th>\n",
       "      <td>19002236</td>\n",
       "      <td>Thu</td>\n",
       "      <td>03/21/2019</td>\n",
       "      <td>740</td>\n",
       "      <td>RIDGE</td>\n",
       "      <td>NaN</td>\n",
       "      <td>0</td>\n",
       "      <td>0</td>\n",
       "      <td>NaN</td>\n",
       "    </tr>\n",
       "    <tr>\n",
       "      <th>1</th>\n",
       "      <td>19002255</td>\n",
       "      <td>Thu</td>\n",
       "      <td>03/21/2019</td>\n",
       "      <td>1630</td>\n",
       "      <td>DEMPSTER</td>\n",
       "      <td>NaN</td>\n",
       "      <td>0</td>\n",
       "      <td>0</td>\n",
       "      <td>NaN</td>\n",
       "    </tr>\n",
       "    <tr>\n",
       "      <th>2</th>\n",
       "      <td>19002238</td>\n",
       "      <td>Thu</td>\n",
       "      <td>03/21/2019</td>\n",
       "      <td>940</td>\n",
       "      <td>FOWLER AV</td>\n",
       "      <td>NaN</td>\n",
       "      <td>0</td>\n",
       "      <td>0</td>\n",
       "      <td>NaN</td>\n",
       "    </tr>\n",
       "    <tr>\n",
       "      <th>3</th>\n",
       "      <td>19002251</td>\n",
       "      <td>Thu</td>\n",
       "      <td>03/21/2019</td>\n",
       "      <td>1544</td>\n",
       "      <td>JUDSON AVE</td>\n",
       "      <td>NaN</td>\n",
       "      <td>0</td>\n",
       "      <td>0</td>\n",
       "      <td>NaN</td>\n",
       "    </tr>\n",
       "    <tr>\n",
       "      <th>4</th>\n",
       "      <td>19002237</td>\n",
       "      <td>Thu</td>\n",
       "      <td>03/21/2019</td>\n",
       "      <td>749</td>\n",
       "      <td>CRAIN</td>\n",
       "      <td>NaN</td>\n",
       "      <td>0</td>\n",
       "      <td>0</td>\n",
       "      <td>NaN</td>\n",
       "    </tr>\n",
       "  </tbody>\n",
       "</table>\n",
       "</div>"
      ],
      "text/plain": [
       "   Accident ID (FK) Day of the Week Accident Date  Accident Time  \\\n",
       "0          19002236             Thu    03/21/2019            740   \n",
       "1          19002255             Thu    03/21/2019           1630   \n",
       "2          19002238             Thu    03/21/2019            940   \n",
       "3          19002251             Thu    03/21/2019           1544   \n",
       "4          19002237             Thu    03/21/2019            749   \n",
       "\n",
       "  Accident Street Name Direction from Intersecting Road  GEO-X  GEO-Y  \\\n",
       "0                RIDGE                              NaN      0      0   \n",
       "1             DEMPSTER                              NaN      0      0   \n",
       "2            FOWLER AV                              NaN      0      0   \n",
       "3           JUDSON AVE                              NaN      0      0   \n",
       "4                CRAIN                              NaN      0      0   \n",
       "\n",
       "   Police Beat  \n",
       "0          NaN  \n",
       "1          NaN  \n",
       "2          NaN  \n",
       "3          NaN  \n",
       "4          NaN  "
      ]
     },
     "execution_count": 7,
     "metadata": {},
     "output_type": "execute_result"
    }
   ],
   "source": [
    "crashes_df = pd.read_csv('./Data/Evanston_Traffic_Crashes.csv')\n",
    "crashes_df.head(5)"
   ]
  },
  {
   "cell_type": "markdown",
   "metadata": {},
   "source": [
    "## 1.3 Evanston Traffic Stops"
   ]
  },
  {
   "cell_type": "code",
   "execution_count": 9,
   "metadata": {},
   "outputs": [
    {
     "data": {
      "text/html": [
       "<div>\n",
       "<style scoped>\n",
       "    .dataframe tbody tr th:only-of-type {\n",
       "        vertical-align: middle;\n",
       "    }\n",
       "\n",
       "    .dataframe tbody tr th {\n",
       "        vertical-align: top;\n",
       "    }\n",
       "\n",
       "    .dataframe thead th {\n",
       "        text-align: right;\n",
       "    }\n",
       "</style>\n",
       "<table border=\"1\" class=\"dataframe\">\n",
       "  <thead>\n",
       "    <tr style=\"text-align: right;\">\n",
       "      <th></th>\n",
       "      <th>rpmainid</th>\n",
       "      <th>Stop Date</th>\n",
       "      <th>Stop Time</th>\n",
       "      <th>Day of the Week</th>\n",
       "      <th>Age</th>\n",
       "      <th>Race</th>\n",
       "      <th>Sex</th>\n",
       "      <th>Street Number</th>\n",
       "      <th>Street Name</th>\n",
       "      <th>Police Beat</th>\n",
       "    </tr>\n",
       "  </thead>\n",
       "  <tbody>\n",
       "    <tr>\n",
       "      <th>0</th>\n",
       "      <td>45963</td>\n",
       "      <td>03/23/2019 12:00:00 AM</td>\n",
       "      <td>20</td>\n",
       "      <td>Sat</td>\n",
       "      <td>22.0</td>\n",
       "      <td>White</td>\n",
       "      <td>Female</td>\n",
       "      <td>800</td>\n",
       "      <td>LINCOLN ST</td>\n",
       "      <td>76.0</td>\n",
       "    </tr>\n",
       "    <tr>\n",
       "      <th>1</th>\n",
       "      <td>45953</td>\n",
       "      <td>03/22/2019 12:00:00 AM</td>\n",
       "      <td>1800</td>\n",
       "      <td>Fri</td>\n",
       "      <td>67.0</td>\n",
       "      <td>White</td>\n",
       "      <td>Female</td>\n",
       "      <td>500</td>\n",
       "      <td>CHICAGO AV/SOUTH BL</td>\n",
       "      <td>72.0</td>\n",
       "    </tr>\n",
       "    <tr>\n",
       "      <th>2</th>\n",
       "      <td>45954</td>\n",
       "      <td>03/22/2019 12:00:00 AM</td>\n",
       "      <td>1752</td>\n",
       "      <td>Fri</td>\n",
       "      <td>38.0</td>\n",
       "      <td>White</td>\n",
       "      <td>Male</td>\n",
       "      <td>800</td>\n",
       "      <td>RIDGE AV/WASHINGTON ST</td>\n",
       "      <td>71.0</td>\n",
       "    </tr>\n",
       "    <tr>\n",
       "      <th>3</th>\n",
       "      <td>45924</td>\n",
       "      <td>03/22/2019 12:00:00 AM</td>\n",
       "      <td>1048</td>\n",
       "      <td>Fri</td>\n",
       "      <td>19.0</td>\n",
       "      <td>Black</td>\n",
       "      <td>Male</td>\n",
       "      <td>900</td>\n",
       "      <td>MULFORD ST/RIDGE AV</td>\n",
       "      <td>78.0</td>\n",
       "    </tr>\n",
       "    <tr>\n",
       "      <th>4</th>\n",
       "      <td>45915</td>\n",
       "      <td>03/22/2019 12:00:00 AM</td>\n",
       "      <td>1036</td>\n",
       "      <td>Fri</td>\n",
       "      <td>67.0</td>\n",
       "      <td>Black</td>\n",
       "      <td>Male</td>\n",
       "      <td>100</td>\n",
       "      <td>BARTON AV/HOWARD ST</td>\n",
       "      <td>78.0</td>\n",
       "    </tr>\n",
       "  </tbody>\n",
       "</table>\n",
       "</div>"
      ],
      "text/plain": [
       "   rpmainid               Stop Date  Stop Time Day of the Week   Age   Race  \\\n",
       "0     45963  03/23/2019 12:00:00 AM         20             Sat  22.0  White   \n",
       "1     45953  03/22/2019 12:00:00 AM       1800             Fri  67.0  White   \n",
       "2     45954  03/22/2019 12:00:00 AM       1752             Fri  38.0  White   \n",
       "3     45924  03/22/2019 12:00:00 AM       1048             Fri  19.0  Black   \n",
       "4     45915  03/22/2019 12:00:00 AM       1036             Fri  67.0  Black   \n",
       "\n",
       "      Sex Street Number             Street Name  Police Beat  \n",
       "0  Female           800              LINCOLN ST         76.0  \n",
       "1  Female           500     CHICAGO AV/SOUTH BL         72.0  \n",
       "2    Male           800  RIDGE AV/WASHINGTON ST         71.0  \n",
       "3    Male           900     MULFORD ST/RIDGE AV         78.0  \n",
       "4    Male           100     BARTON AV/HOWARD ST         78.0  "
      ]
     },
     "execution_count": 9,
     "metadata": {},
     "output_type": "execute_result"
    }
   ],
   "source": [
    "stops_df = pd.read_csv('./Data/Traffic_Stops_in_Evanston.csv')\n",
    "stops_df.head(5)"
   ]
  },
  {
   "cell_type": "markdown",
   "metadata": {},
   "source": [
    "# 2. Data Preprocessing"
   ]
  },
  {
   "cell_type": "markdown",
   "metadata": {},
   "source": [
    "## 1.1 Evanston Citations"
   ]
  },
  {
   "cell_type": "code",
   "execution_count": 62,
   "metadata": {},
   "outputs": [
    {
     "data": {
      "text/plain": [
       "Citation Number        1\n",
       "Citation Date          1\n",
       "Citation Time          1\n",
       "Day of the Week        1\n",
       "Age                   49\n",
       "Race                1512\n",
       "Sex                   50\n",
       "Police Beat        20842\n",
       "dtype: int64"
      ]
     },
     "execution_count": 62,
     "metadata": {},
     "output_type": "execute_result"
    }
   ],
   "source": [
    "citations_df.isna().sum()"
   ]
  },
  {
   "cell_type": "code",
   "execution_count": 63,
   "metadata": {},
   "outputs": [
    {
     "name": "stdout",
     "output_type": "stream",
     "text": [
      "24815\n"
     ]
    }
   ],
   "source": [
    "# Drop 'Police Beat'\n",
    "citations_df.drop(['Police Beat'], axis = 1, inplace= True)\n",
    "# Number of rows\n",
    "print(len(citations_df.index))"
   ]
  },
  {
   "cell_type": "code",
   "execution_count": 65,
   "metadata": {},
   "outputs": [],
   "source": [
    "# Remove NAs\n",
    "citations_df.dropna(subset = ['Citation Number', 'Citation Time', 'Day of the Week'], inplace= True)"
   ]
  },
  {
   "cell_type": "markdown",
   "metadata": {},
   "source": [
    "# 2. Datetime\n",
    "# 2.1 Evanston Citations\n",
    "What are the types of the columns?"
   ]
  },
  {
   "cell_type": "code",
   "execution_count": 66,
   "metadata": {},
   "outputs": [
    {
     "data": {
      "text/plain": [
       "Citation Number     object\n",
       "Citation Date       object\n",
       "Citation Time      float64\n",
       "Day of the Week     object\n",
       "Age                float64\n",
       "Race                object\n",
       "Sex                 object\n",
       "dtype: object"
      ]
     },
     "execution_count": 66,
     "metadata": {},
     "output_type": "execute_result"
    }
   ],
   "source": [
    "citations_df.dtypes"
   ]
  },
  {
   "cell_type": "code",
   "execution_count": 90,
   "metadata": {},
   "outputs": [
    {
     "data": {
      "text/plain": [
       "dtype('<M8[ns]')"
      ]
     },
     "execution_count": 90,
     "metadata": {},
     "output_type": "execute_result"
    }
   ],
   "source": [
    "# DateTime\n",
    "citations_df['DateTime_Object'] = pd.to_datetime(citations_df['Citation Date'], format = '%m/%d/%Y %H:%M:%S %p')\n",
    "citations_df['DateTime_Object'].dtype"
   ]
  },
  {
   "cell_type": "markdown",
   "metadata": {},
   "source": [
    "Time in `Citation Date` is not correct. We need to modify it unsing `Citation Time`. First, change citation time to integer and then to string:"
   ]
  },
  {
   "cell_type": "code",
   "execution_count": 123,
   "metadata": {},
   "outputs": [
    {
     "name": "stdout",
     "output_type": "stream",
     "text": [
      "['8' '18' '9' '7' '16' '12' '11' '6' '21' '14' '10' '15' '17' '13' '5' '3'\n",
      " '4' '22' '' '19' '1' '23' '20' '2' '31' '32' '71']\n"
     ]
    }
   ],
   "source": [
    "citations_df['Citation Time'] = citations_df['Citation Time'].astype(int).astype(str)\n",
    "# MINUTE\n",
    "citations_df['Minute']= citations_df['Citation Time'].apply(lambda x: int(x[-2:]))\n",
    "# HOUR\n",
    "citations_df['Hour']  = citations_df['Citation Time'].apply(lambda x: x[:-2])\n",
    "print(citations_df['Hour'].unique())\n",
    "# hour 0 would be blank.\n",
    "citations_df.loc[citations_df['Hour'] == '', ['Hour']] = '0'\n",
    "citations_df['Hour'] = citations_df['Hour'].astype(int)"
   ]
  },
  {
   "cell_type": "markdown",
   "metadata": {},
   "source": [
    "# 3. Gender"
   ]
  },
  {
   "cell_type": "code",
   "execution_count": 164,
   "metadata": {},
   "outputs": [
    {
     "data": {
      "image/png": "[encoded data removed]",
      "text/plain": [
       "<Figure size 864x1152 with 2 Axes>"
      ]
     },
     "metadata": {},
     "output_type": "display_data"
    }
   ],
   "source": [
    "with plt.style.context('ggplot'):\n",
    "    fig = plt.figure( figsize = (12,16))\n",
    "    ax1 = fig.add_subplot(1, 2, 1)\n",
    "    citations_df['Sex'].value_counts().plot(kind = 'pie', autopct = '%.1f%%', ax = ax1, title = 'Citations')\n",
    "    \n",
    "    ax2 = fig.add_subplot(1,2, 2)\n",
    "    stops_df['Sex'].value_counts().plot(kind = 'pie', autopct = '%.1f%%', ax = ax2, title = 'Traffic Stops')\n",
    "    "
   ]
  },
  {
   "cell_type": "markdown",
   "metadata": {},
   "source": [
    "# 4. Race"
   ]
  },
  {
   "cell_type": "markdown",
   "metadata": {},
   "source": [
    "##### with plt.style.context('ggplot'):\n",
    "    fig = plt.figure(figsize = (15,10))\n",
    "    ax1 = fig.add_subplot(1,2,1)\n",
    "    citations_df['Race'].value_counts().plot(kind = 'pie', autopct = '%.1f%%', ax = ax1, title = 'Citations')\n",
    "    \n",
    "    ax2 = fig.add_subplot(1,2,2)\n",
    "    stops_df['Race'].value_counts().plot(kind = 'pie', autopct = '%.1f%%', ax = ax2, title = 'Traffic Stops')"
   ]
  },
  {
   "cell_type": "markdown",
   "metadata": {},
   "source": [
    "# 5. Age"
   ]
  },
  {
   "cell_type": "code",
   "execution_count": 196,
   "metadata": {},
   "outputs": [
    {
     "data": {
      "image/png": "[encoded data removed]",
      "text/plain": [
       "<Figure size 1440x720 with 2 Axes>"
      ]
     },
     "metadata": {},
     "output_type": "display_data"
    }
   ],
   "source": [
    "with plt.style.context('ggplot'):\n",
    "    fig = plt.figure(figsize = (20,10))\n",
    "    ax1 = fig.add_subplot(1,2,1)\n",
    "    citations_df['Age'].plot(kind = 'hist', ax  =ax1, title = 'Citations', color = 'steelblue')\n",
    "    ax1.minorticks_on()\n",
    "    ax1.xaxis.grid(b=True, which='minor', color='w', linewidth = 0.4)\n",
    "    \n",
    "    ax2 = fig.add_subplot(1,2,2)\n",
    "    stops_df['Age'].plot(kind = 'hist', ax = ax2, title = 'Traffic Stops', color = 'steelblue')\n",
    "    ax2.minorticks_on()\n",
    "    ax2.xaxis.grid(b=True, which='minor', color='w', linewidth = 0.4)\n",
    "    "
   ]
  },
  {
   "cell_type": "markdown",
   "metadata": {},
   "source": [
    "# 5. Merge Traffic Stops and Citations <br/>\n",
    "Are citations part of traffic stops? can we merge them? Let's see!"
   ]
  },
  {
   "cell_type": "code",
   "execution_count": null,
   "metadata": {},
   "outputs": [],
   "source": []
  }
 ],
 "metadata": {
  "kernelspec": {
   "display_name": "Python 3",
   "language": "python",
   "name": "python3"
  },
  "language_info": {
   "codemirror_mode": {
    "name": "ipython",
    "version": 3
   },
   "file_extension": ".py",
   "mimetype": "text/x-python",
   "name": "python",
   "nbconvert_exporter": "python",
   "pygments_lexer": "ipython3",
   "version": "3.7.2"
  }
 },
 "nbformat": 4,
 "nbformat_minor": 2
}
